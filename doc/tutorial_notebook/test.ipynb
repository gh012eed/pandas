{
 "cells": [
  {
   "cell_type": "code",
   "execution_count": 1,
   "metadata": {},
   "outputs": [],
   "source": [
    "import pandas as pd\n",
    "import numpy as np"
   ]
  },
  {
   "cell_type": "code",
   "execution_count": 19,
   "metadata": {},
   "outputs": [
    {
     "data": {
      "text/plain": [
       "[('bar', 'one'),\n",
       " ('bar', 'two'),\n",
       " ('baz', 'one'),\n",
       " ('baz', 'two'),\n",
       " ('foo', 'one'),\n",
       " ('foo', 'two'),\n",
       " ('qux', 'one'),\n",
       " ('qux', 'two')]"
      ]
     },
     "execution_count": 19,
     "metadata": {},
     "output_type": "execute_result"
    }
   ],
   "source": [
    "tuples = list(\n",
    "    zip(\n",
    "            [\"bar\", \"bar\", \"baz\", \"baz\", \"foo\", \"foo\", \"qux\", \"qux\"],\n",
    "            [\"one\", \"two\", \"one\", \"two\", \"one\", \"two\", \"one\", \"two\"],\n",
    "    )\n",
    ")\n",
    "tuples"
   ]
  },
  {
   "cell_type": "code",
   "execution_count": 38,
   "metadata": {},
   "outputs": [
    {
     "data": {
      "text/plain": [
       "PeriodIndex(['1990-03-31 23:00', '1990-06-30 23:00', '1990-09-30 23:00',\n",
       "             '1990-12-31 23:00', '1991-03-31 23:00', '1991-06-30 23:00',\n",
       "             '1991-09-30 23:00', '1991-12-31 23:00', '1992-03-31 23:00',\n",
       "             '1992-06-30 23:00', '1992-09-30 23:00', '1992-12-31 23:00',\n",
       "             '1993-03-31 23:00', '1993-06-30 23:00', '1993-09-30 23:00',\n",
       "             '1993-12-31 23:00', '1994-03-31 23:00', '1994-06-30 23:00',\n",
       "             '1994-09-30 23:00', '1994-12-31 23:00', '1995-03-31 23:00',\n",
       "             '1995-06-30 23:00', '1995-09-30 23:00', '1995-12-31 23:00',\n",
       "             '1996-03-31 23:00', '1996-06-30 23:00', '1996-09-30 23:00',\n",
       "             '1996-12-31 23:00', '1997-03-31 23:00', '1997-06-30 23:00',\n",
       "             '1997-09-30 23:00', '1997-12-31 23:00', '1998-03-31 23:00',\n",
       "             '1998-06-30 23:00', '1998-09-30 23:00', '1998-12-31 23:00',\n",
       "             '1999-03-31 23:00', '1999-06-30 23:00', '1999-09-30 23:00',\n",
       "             '1999-12-31 23:00', '2000-03-31 23:00', '2000-06-30 23:00',\n",
       "             '2000-09-30 23:00', '2000-12-31 23:00'],\n",
       "            dtype='period[H]')"
      ]
     },
     "execution_count": 38,
     "metadata": {},
     "output_type": "execute_result"
    }
   ],
   "source": [
    "prng = pd.period_range(\"1990Q1\", \"2000Q4\", freq=\"Q-NOV\")\n",
    "\n",
    "ts = pd.Series(np.random.randn(len(prng)), prng)\n",
    "ts.index=(prng.asfreq(\"M\", \"e\") +1).asfreq(\"H\", \"e\")\n",
    "ts.index"
   ]
  }
 ],
 "metadata": {
  "kernelspec": {
   "display_name": "Python 3.8.3 ('base')",
   "language": "python",
   "name": "python3"
  },
  "language_info": {
   "codemirror_mode": {
    "name": "ipython",
    "version": 3
   },
   "file_extension": ".py",
   "mimetype": "text/x-python",
   "name": "python",
   "nbconvert_exporter": "python",
   "pygments_lexer": "ipython3",
   "version": "3.8.3"
  },
  "orig_nbformat": 4,
  "vscode": {
   "interpreter": {
    "hash": "5bd97491c315d423953f3cb153e9c4d64a58dec376e5f8720e09cda663ace110"
   }
  }
 },
 "nbformat": 4,
 "nbformat_minor": 2
}
